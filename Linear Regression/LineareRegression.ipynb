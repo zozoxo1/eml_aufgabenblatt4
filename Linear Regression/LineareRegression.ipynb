{
  "cells": [
    {
      "cell_type": "markdown",
      "metadata": {
        "id": "d4f25c2f"
      },
      "source": [
        "<figure>\n",
        "  <IMG SRC=\"https://upload.wikimedia.org/wikipedia/commons/thumb/d/d5/Fachhochschule_Südwestfalen_20xx_logo.svg/320px-Fachhochschule_Südwestfalen_20xx_logo.svg.png\" WIDTH=250 ALIGN=\"right\">\n",
        "</figure>\n",
        "\n",
        "# Einführung Machine Learning\n",
        "### Sommersemester 2022\n",
        "Prof. Dr. Heiner Giefers"
      ]
    },
    {
      "cell_type": "code",
      "execution_count": 2,
      "metadata": {
        "id": "VPxdPGGQsVtZ"
      },
      "outputs": [],
      "source": [
        "%matplotlib inline\n",
        "import matplotlib.pyplot as plt\n",
        "import numpy as np"
      ]
    },
    {
      "cell_type": "markdown",
      "metadata": {
        "id": "W5Dguhn4sVta"
      },
      "source": [
        "## Lineare Regression"
      ]
    },
    {
      "cell_type": "markdown",
      "metadata": {
        "id": "zpip6G1FsVta"
      },
      "source": [
        "Der einfachste Fall der Lineraen Regression ist die Vorhersage einer (*abhängigen*) Variablen durch **eine** *unabhängige* Variable.\n",
        "Dieser Spezialfall wird daher auch *einfache Lineare Regression* (ELR) oder *univariate Lineare Regression* genannt.\n",
        "\n",
        "Wir wollen die ELR an einem einfachen Datensatz erproben.\n",
        "Dazu generieren wir uns $N=30$ Datenpunkte im Bereich $x\\in[0,10]$.\n",
        "Die $y$-Werte sollen grob entlang einer geraden liegen.\n",
        "Wir wählen für die gerade eine Steigung von $2$ und den Achsenabschnitt $-5$.\n",
        "\n",
        "Natürlich sollen die Punkte nicht alle **auf** dieser Geraden liegen.\n",
        "Daher fügen wir noch einen kleinen *Störfaktor* ein.\n",
        "Wir addieren zu jedem $y$-Wert einen Wert aus dem Bereich $[-1,1]$."
      ]
    },
    {
      "cell_type": "code",
      "execution_count": 3,
      "metadata": {
        "colab": {
          "base_uri": "https://localhost:8080/",
          "height": 265
        },
        "id": "Qankc47EsVta",
        "outputId": "d234bc4d-89d3-4b19-8ff3-70e06e883ac4"
      },
      "outputs": [
        {
          "output_type": "display_data",
          "data": {
            "text/plain": [
              "<Figure size 432x288 with 1 Axes>"
            ],
            "image/png": "[encoded data removed]"
          },
          "metadata": {
            "needs_background": "light"
          }
        }
      ],
      "source": [
        "np.random.seed(42)\n",
        "N = 30\n",
        "x = 10 * np.random.rand(N)\n",
        "y = 2 * x - 5 + 2*np.random.randn(N)\n",
        "plt.scatter(x, y);\n",
        "plt.show()"
      ]
    },
    {
      "cell_type": "markdown",
      "metadata": {
        "id": "Eo7HoI74sVtb"
      },
      "source": [
        "Wir können nun die *Scikit-Learn* Klasse `LinearRegression` verwenden, um ein ELR Modell für den Datensatz aufzustellen.\n",
        "Mit der `fit`-Methode passen wir das Modell an den Datensatz an.\n",
        "\n",
        "*Hinweis:* Die `fit`-MEthode erwartet ein 2-dimensionales Feld als ersten Parameter. Unser `x` ist aber ein eindimensionales Array. Wir ändern daher mit der `reshape`-Methode die Dimension von `x` vor dem Aufruf von `fit` um."
      ]
    },
    {
      "cell_type": "code",
      "execution_count": 4,
      "metadata": {
        "colab": {
          "base_uri": "https://localhost:8080/"
        },
        "id": "0DwbKZCIsVtb",
        "outputId": "56cdcc52-50dd-431c-cd3d-075ff1fe75e3"
      },
      "outputs": [
        {
          "output_type": "stream",
          "name": "stdout",
          "text": [
            "Steigung:        1.7213842056621573\n",
            "Achsenabschnitt: -4.142057444197555\n"
          ]
        }
      ],
      "source": [
        "from sklearn.linear_model import LinearRegression\n",
        "model = LinearRegression()\n",
        "x = x.reshape((-1,1))\n",
        "model.fit(x, y)\n",
        "\n",
        "print(\"Steigung:       \", model.coef_[0])\n",
        "print(\"Achsenabschnitt:\", model.intercept_)\n",
        "\n"
      ]
    },
    {
      "cell_type": "markdown",
      "metadata": {
        "id": "qg6Ei5stsVtc"
      },
      "source": [
        "Wir können nun die Modellfunktion plotten indem wir zunächst einige neue Datenpunkte erzeugen (`xplot`) und für diese Punkte den $y$-Wert über die `predict`-Methode schätzen.\n",
        "\n",
        "Wir sehen, dass die Gerade die blauen Datenpukte unseres Trainingsdatensatzes sehr gut generalisiert."
      ]
    },
    {
      "cell_type": "code",
      "execution_count": 5,
      "metadata": {
        "colab": {
          "base_uri": "https://localhost:8080/",
          "height": 265
        },
        "id": "oymZpGdksVtc",
        "outputId": "e7095d60-81d5-440c-90c7-648102685565"
      },
      "outputs": [
        {
          "output_type": "display_data",
          "data": {
            "text/plain": [
              "<Figure size 432x288 with 1 Axes>"
            ],
            "image/png": "[encoded data removed]"
          },
          "metadata": {
            "needs_background": "light"
          }
        }
      ],
      "source": [
        "xplot = np.linspace(0, 10, 20).reshape((-1,1))\n",
        "yplot = model.predict(xplot)\n",
        "\n",
        "plt.scatter(x, y)\n",
        "plt.plot(xplot, yplot, c='r')\n",
        "plt.show()"
      ]
    },
    {
      "cell_type": "markdown",
      "metadata": {
        "id": "Z59KCj8CsVtd"
      },
      "source": [
        "Der ``LinearRegression`` Schätzer kann nicht nur auf univariate Probleme angewendet werden, sondern er funktioniert auch für mehrere unabhängige Variable.\n",
        "Die Modellfunktion einer allgemeinen (*multivariaten*) lineren Regression lautet:\n",
        "$$\n",
        "\\hat{y} = a_0 + a_1 x_1 + a_2 x_2 + \\cdots + a_n x_n\n",
        "$$\n",
        "\n",
        "Dabei sind die $x_i$ die einzelnen unabhängigen Variablen, die Werte $a_i$ sind die zu trainierenden Modellparameter.\n",
        "Der Parameter $a_0$, den wir beim univariaten Modell *Achsenabschnitt* genannt haben, heißt auch *Bias*-Parameter.\n",
        "Es ist der einzige Parameter, der unabhängig von den Variablen ins Modell eingeht.\n",
        "\n",
        "$\\hat{y}$ ist der geschätzte Wert der Zielvariablen für den Vektor $\\textbf{x}$.\n",
        "Für unsere Trainingsdaten kennen wir den jeweiligen exakten Wert $y$.\n",
        "Über einen Vergleich von $\\hat{y}$ und $y$ kann man feststellen, wie *gut* die Schaätzung der Modellfunktion ist."
      ]
    },
    {
      "cell_type": "code",
      "execution_count": 6,
      "metadata": {
        "id": "DdefauFbsVtd"
      },
      "outputs": [],
      "source": [
        "np.random.seed(123)\n",
        "N = 30\n",
        "X = 10 * np.random.rand(N, 3)\n",
        "noise = np.random.normal(0, 0.5, (N,3))\n",
        "y = 0.5 + np.dot(X+noise, [1.5, -2., 1.]) + 0.5*np.random.randn(1)"
      ]
    },
    {
      "cell_type": "code",
      "execution_count": 7,
      "metadata": {
        "colab": {
          "base_uri": "https://localhost:8080/",
          "height": 499
        },
        "id": "HSDH0dvFsVtd",
        "outputId": "da160034-785e-4c28-a858-ecf96e925b98"
      },
      "outputs": [
        {
          "output_type": "display_data",
          "data": {
            "text/plain": [
              "<Figure size 1080x576 with 3 Axes>"
            ],
            "image/png": "[encoded data removed]"
          },
          "metadata": {
            "needs_background": "light"
          }
        }
      ],
      "source": [
        "fig, axs = plt.subplots(1, 3, figsize=(15,8))\n",
        "axs[0].scatter(X[:,0], y)\n",
        "axs[1].scatter(X[:,2], y)\n",
        "axs[2].scatter(X[:,1], y)\n",
        "axs[0].set_ylabel('y')\n",
        "axs[0].set_xlabel(r'$x_0$')\n",
        "axs[1].set_xlabel(r'$x_1$')\n",
        "axs[2].set_xlabel(r'$x_2$')\n",
        "plt.show()"
      ]
    },
    {
      "cell_type": "markdown",
      "metadata": {
        "id": "UKIb_kVSsVte"
      },
      "source": [
        "**Aufgabe:** Trainieren Sie ein `LinearRegression` Modell mit dem Datensatz `X` und geben Sie die gelerneten Modellparameter $a_0$ bis $a_3$ aus."
      ]
    },
    {
      "cell_type": "code",
      "execution_count": 14,
      "metadata": {
        "deletable": false,
        "nbgrader": {
          "grade": true,
          "grade_id": "cell-4c42dc3a5700797b",
          "locked": false,
          "points": 0,
          "schema_version": 3,
          "solution": true,
          "task": false
        },
        "colab": {
          "base_uri": "https://localhost:8080/"
        },
        "id": "vPtjH886sVte",
        "outputId": "a5e7325b-5af2-432c-9f96-7de983cd3435"
      },
      "outputs": [
        {
          "output_type": "execute_result",
          "data": {
            "text/plain": [
              "array([ 1.71096436, -1.9269493 ,  0.99236897])"
            ]
          },
          "metadata": {},
          "execution_count": 14
        }
      ],
      "source": [
        "model = LinearRegression().fit(X, y)\n",
        "model.coef_"
      ]
    },
    {
      "cell_type": "markdown",
      "metadata": {
        "id": "4ns0GgI2sVte"
      },
      "source": [
        "### California Housing\n",
        "\n",
        "Im folgenden Beispiel verwenden wir einen Datensatz zu Immobilienpreisen in den USA für die Demonstration von Regressions-Aufgaben.\n",
        "Die Daten wurden 1990 bei der US-Volkszählung gesammelt und beschreiben Eigenschaften der Wohnverhältnisse in Bezirken des Bundesstaats Kalifornien.\n",
        "Die Zielvariable ist der Median des Hauswertes, angegeben in Hunderttausend Dollar."
      ]
    },
    {
      "cell_type": "code",
      "execution_count": 15,
      "metadata": {
        "colab": {
          "base_uri": "https://localhost:8080/",
          "height": 206
        },
        "id": "3FKGPOpmsVte",
        "outputId": "c94565ef-c4a9-4587-f616-2a4e7bd61f38"
      },
      "outputs": [
        {
          "output_type": "execute_result",
          "data": {
            "text/plain": [
              "   MedInc  HouseAge  AveRooms  AveBedrms  Population  AveOccup  Latitude  \\\n",
              "0  8.3252      41.0  6.984127   1.023810       322.0  2.555556     37.88   \n",
              "1  8.3014      21.0  6.238137   0.971880      2401.0  2.109842     37.86   \n",
              "2  7.2574      52.0  8.288136   1.073446       496.0  2.802260     37.85   \n",
              "3  5.6431      52.0  5.817352   1.073059       558.0  2.547945     37.85   \n",
              "4  3.8462      52.0  6.281853   1.081081       565.0  2.181467     37.85   \n",
              "\n",
              "   Longitude  \n",
              "0    -122.23  \n",
              "1    -122.22  \n",
              "2    -122.24  \n",
              "3    -122.25  \n",
              "4    -122.25  "
            ],
            "text/html": [
              "\n",
              "  <div id=\"df-de96a5c8-032f-42c9-b165-c7b90d7d5427\">\n",
              "    <div class=\"colab-df-container\">\n",
              "      <div>\n",
              "<style scoped>\n",
              "    .dataframe tbody tr th:only-of-type {\n",
              "        vertical-align: middle;\n",
              "    }\n",
              "\n",
              "    .dataframe tbody tr th {\n",
              "        vertical-align: top;\n",
              "    }\n",
              "\n",
              "    .dataframe thead th {\n",
              "        text-align: right;\n",
              "    }\n",
              "</style>\n",
              "<table border=\"1\" class=\"dataframe\">\n",
              "  <thead>\n",
              "    <tr style=\"text-align: right;\">\n",
              "      <th></th>\n",
              "      <th>MedInc</th>\n",
              "      <th>HouseAge</th>\n",
              "      <th>AveRooms</th>\n",
              "      <th>AveBedrms</th>\n",
              "      <th>Population</th>\n",
              "      <th>AveOccup</th>\n",
              "      <th>Latitude</th>\n",
              "      <th>Longitude</th>\n",
              "    </tr>\n",
              "  </thead>\n",
              "  <tbody>\n",
              "    <tr>\n",
              "      <th>0</th>\n",
              "      <td>8.3252</td>\n",
              "      <td>41.0</td>\n",
              "      <td>6.984127</td>\n",
              "      <td>1.023810</td>\n",
              "      <td>322.0</td>\n",
              "      <td>2.555556</td>\n",
              "      <td>37.88</td>\n",
              "      <td>-122.23</td>\n",
              "    </tr>\n",
              "    <tr>\n",
              "      <th>1</th>\n",
              "      <td>8.3014</td>\n",
              "      <td>21.0</td>\n",
              "      <td>6.238137</td>\n",
              "      <td>0.971880</td>\n",
              "      <td>2401.0</td>\n",
              "      <td>2.109842</td>\n",
              "      <td>37.86</td>\n",
              "      <td>-122.22</td>\n",
              "    </tr>\n",
              "    <tr>\n",
              "      <th>2</th>\n",
              "      <td>7.2574</td>\n",
              "      <td>52.0</td>\n",
              "      <td>8.288136</td>\n",
              "      <td>1.073446</td>\n",
              "      <td>496.0</td>\n",
              "      <td>2.802260</td>\n",
              "      <td>37.85</td>\n",
              "      <td>-122.24</td>\n",
              "    </tr>\n",
              "    <tr>\n",
              "      <th>3</th>\n",
              "      <td>5.6431</td>\n",
              "      <td>52.0</td>\n",
              "      <td>5.817352</td>\n",
              "      <td>1.073059</td>\n",
              "      <td>558.0</td>\n",
              "      <td>2.547945</td>\n",
              "      <td>37.85</td>\n",
              "      <td>-122.25</td>\n",
              "    </tr>\n",
              "    <tr>\n",
              "      <th>4</th>\n",
              "      <td>3.8462</td>\n",
              "      <td>52.0</td>\n",
              "      <td>6.281853</td>\n",
              "      <td>1.081081</td>\n",
              "      <td>565.0</td>\n",
              "      <td>2.181467</td>\n",
              "      <td>37.85</td>\n",
              "      <td>-122.25</td>\n",
              "    </tr>\n",
              "  </tbody>\n",
              "</table>\n",
              "</div>\n",
              "      <button class=\"colab-df-convert\" onclick=\"convertToInteractive('df-de96a5c8-032f-42c9-b165-c7b90d7d5427')\"\n",
              "              title=\"Convert this dataframe to an interactive table.\"\n",
              "              style=\"display:none;\">\n",
              "        \n",
              "  <svg xmlns=\"http://www.w3.org/2000/svg\" height=\"24px\"viewBox=\"0 0 24 24\"\n",
              "       width=\"24px\">\n",
              "    <path d=\"M0 0h24v24H0V0z\" fill=\"none\"/>\n",
              "    <path d=\"M18.56 5.44l.94 2.06.94-2.06 2.06-.94-2.06-.94-.94-2.06-.94 2.06-2.06.94zm-11 1L8.5 8.5l.94-2.06 2.06-.94-2.06-.94L8.5 2.5l-.94 2.06-2.06.94zm10 10l.94 2.06.94-2.06 2.06-.94-2.06-.94-.94-2.06-.94 2.06-2.06.94z\"/><path d=\"M17.41 7.96l-1.37-1.37c-.4-.4-.92-.59-1.43-.59-.52 0-1.04.2-1.43.59L10.3 9.45l-7.72 7.72c-.78.78-.78 2.05 0 2.83L4 21.41c.39.39.9.59 1.41.59.51 0 1.02-.2 1.41-.59l7.78-7.78 2.81-2.81c.8-.78.8-2.07 0-2.86zM5.41 20L4 18.59l7.72-7.72 1.47 1.35L5.41 20z\"/>\n",
              "  </svg>\n",
              "      </button>\n",
              "      \n",
              "  <style>\n",
              "    .colab-df-container {\n",
              "      display:flex;\n",
              "      flex-wrap:wrap;\n",
              "      gap: 12px;\n",
              "    }\n",
              "\n",
              "    .colab-df-convert {\n",
              "      background-color: #E8F0FE;\n",
              "      border: none;\n",
              "      border-radius: 50%;\n",
              "      cursor: pointer;\n",
              "      display: none;\n",
              "      fill: #1967D2;\n",
              "      height: 32px;\n",
              "      padding: 0 0 0 0;\n",
              "      width: 32px;\n",
              "    }\n",
              "\n",
              "    .colab-df-convert:hover {\n",
              "      background-color: #E2EBFA;\n",
              "      box-shadow: 0px 1px 2px rgba(60, 64, 67, 0.3), 0px 1px 3px 1px rgba(60, 64, 67, 0.15);\n",
              "      fill: #174EA6;\n",
              "    }\n",
              "\n",
              "    [theme=dark] .colab-df-convert {\n",
              "      background-color: #3B4455;\n",
              "      fill: #D2E3FC;\n",
              "    }\n",
              "\n",
              "    [theme=dark] .colab-df-convert:hover {\n",
              "      background-color: #434B5C;\n",
              "      box-shadow: 0px 1px 3px 1px rgba(0, 0, 0, 0.15);\n",
              "      filter: drop-shadow(0px 1px 2px rgba(0, 0, 0, 0.3));\n",
              "      fill: #FFFFFF;\n",
              "    }\n",
              "  </style>\n",
              "\n",
              "      <script>\n",
              "        const buttonEl =\n",
              "          document.querySelector('#df-de96a5c8-032f-42c9-b165-c7b90d7d5427 button.colab-df-convert');\n",
              "        buttonEl.style.display =\n",
              "          google.colab.kernel.accessAllowed ? 'block' : 'none';\n",
              "\n",
              "        async function convertToInteractive(key) {\n",
              "          const element = document.querySelector('#df-de96a5c8-032f-42c9-b165-c7b90d7d5427');\n",
              "          const dataTable =\n",
              "            await google.colab.kernel.invokeFunction('convertToInteractive',\n",
              "                                                     [key], {});\n",
              "          if (!dataTable) return;\n",
              "\n",
              "          const docLinkHtml = 'Like what you see? Visit the ' +\n",
              "            '<a target=\"_blank\" href=https://colab.research.google.com/notebooks/data_table.ipynb>data table notebook</a>'\n",
              "            + ' to learn more about interactive tables.';\n",
              "          element.innerHTML = '';\n",
              "          dataTable['output_type'] = 'display_data';\n",
              "          await google.colab.output.renderOutput(dataTable, element);\n",
              "          const docLink = document.createElement('div');\n",
              "          docLink.innerHTML = docLinkHtml;\n",
              "          element.appendChild(docLink);\n",
              "        }\n",
              "      </script>\n",
              "    </div>\n",
              "  </div>\n",
              "  "
            ]
          },
          "metadata": {},
          "execution_count": 15
        }
      ],
      "source": [
        "import numpy as np\n",
        "from sklearn.linear_model import LinearRegression\n",
        "import pandas as pd\n",
        "from sklearn.datasets import fetch_california_housing\n",
        "\n",
        "#print(dataset.DESCR)\n",
        "dataset = fetch_california_housing()\n",
        "df = pd.DataFrame(dataset.data, columns=dataset.feature_names)\n",
        "df.head()"
      ]
    },
    {
      "cell_type": "markdown",
      "metadata": {
        "id": "1tvdjM8EsVtf"
      },
      "source": [
        "Der Datensatz enthält folgende Merkmale:\n",
        "- **MedInc:** Median des Einkommens im Bezirk\n",
        "- **HouseAge:** Median des Hausalters im Bezirk\n",
        "- **AveRooms:** Durchschnittliche Anzahl der Zimmer pro Haushalt\n",
        "- **AveBedrms:** Durchschnittliche Anzahl der Schlafzimmer pro Haushalt\n",
        "- **Population:** Anzahl Bewohner*innen im Bezirk\n",
        "- **AveOccup:** Durchschnittliche Anzahl der Haushaltsmitglieder\n",
        "- **Latitude:** Breitengrad des Bezirks\n",
        "- **Longitude:** Längengrad des Bezirks\n",
        "\n",
        "Die Zielvariable `target` ist der Preis der jeweiligen Häuser in Hunderttausend US-Dollar"
      ]
    },
    {
      "cell_type": "code",
      "execution_count": 16,
      "metadata": {
        "colab": {
          "base_uri": "https://localhost:8080/"
        },
        "id": "UrwUU5QqsVtf",
        "outputId": "3b947b11-02de-4cd1-b65c-02919db9aeef"
      },
      "outputs": [
        {
          "output_type": "stream",
          "name": "stdout",
          "text": [
            "Der Wert der Häuser reicht von 14 bis 500 Tausend $\n",
            "Im Mittel kosten die Häuser 206 Tausend $\n"
          ]
        }
      ],
      "source": [
        "preise = dataset.target\n",
        "print(f\"Der Wert der Häuser reicht von {int(np.min(preise)*100)} bis {int(np.max(preise)*100)} Tausend $\")\n",
        "print(f\"Im Mittel kosten die Häuser {int(np.mean(preise)*100)} Tausend $\")"
      ]
    },
    {
      "cell_type": "markdown",
      "metadata": {
        "id": "bz6c_mGCsVtf"
      },
      "source": [
        "**Aufgabe:** In der folgenden Code-Zelle teilen wir den Datensatz auf, in einen Trainings- und in einen Testdatensatz.\n",
        "Verwenden Sie die Trainingsdaten, um ein lineares Regressionsmodell zu trainieren.\n",
        "Berechnen Sie damit eine Schätzung `y_vorhersage` für die Testdaten.\n",
        "Danach berechnen wird den *mittleren absoluten Fehler* und überprüfen damit, wie gut unser Modell die Preise der Häuser schätzen kann."
      ]
    },
    {
      "cell_type": "code",
      "execution_count": 25,
      "metadata": {
        "deletable": false,
        "nbgrader": {
          "grade": true,
          "grade_id": "cell-bdf37f946f71a125",
          "locked": false,
          "points": 0,
          "schema_version": 3,
          "solution": true,
          "task": false
        },
        "colab": {
          "base_uri": "https://localhost:8080/"
        },
        "id": "_O39_6yssVtf",
        "outputId": "7d830aa0-033d-4a80-e9fb-302e3f4b750e"
      },
      "outputs": [
        {
          "output_type": "stream",
          "name": "stdout",
          "text": [
            "Der mittlere Fehler der Vorhersage liegt bei 52 Tausend $\n",
            "Damit liegen wir im Mittel ca. 31% daneben\n"
          ]
        }
      ],
      "source": [
        "from sklearn.model_selection import train_test_split\n",
        "from sklearn.metrics import mean_absolute_percentage_error\n",
        "X_train, X_test, y_train, y_test = train_test_split(dataset.data, dataset.target, test_size=0.3, random_state=42)\n",
        "\n",
        "y_vorhersage = None\n",
        "model = LinearRegression().fit(X_train, y_train)\n",
        "y_vorhersage = model.predict(X_test)\n",
        "\n",
        "# Mean Average Error per Hand ausrechnen\n",
        "mittlerer_fehler = np.sum(np.abs(y_vorhersage-y_test))/len(y_vorhersage)\n",
        "\n",
        "print(f\"Der mittlere Fehler der Vorhersage liegt bei {int(mittlerer_fehler*100)} Tausend $\")\n",
        "err_percent = mean_absolute_percentage_error(y_test, y_vorhersage)\n",
        "print(f\"Damit liegen wir im Mittel ca. {int(err_percent*100)}% daneben\")"
      ]
    },
    {
      "cell_type": "markdown",
      "metadata": {
        "id": "HE5j2yVJsVtg"
      },
      "source": [
        "## Quellen:\n",
        "[1] Jake VanderPlas, [*Python Data Science Handbook*](https://jakevdp.github.io/PythonDataScienceHandbook), O'Reilly, 2016.\\\n",
        "[2] Wolf Riepl, [*Machine Learning mit R und caret: GBM optimieren (Gradient Boosting Machine)*](https://statistik-dresden.de/archives/14967), Artikel auf https://statistik-dresden.de,  Veröffentlicht am 23.01.2018 (zugegriffen am 27.04.2021)"
      ]
    }
  ],
  "metadata": {
    "anaconda-cloud": {},
    "kernelspec": {
      "display_name": "Python 3",
      "language": "python",
      "name": "python3"
    },
    "language_info": {
      "codemirror_mode": {
        "name": "ipython",
        "version": 3
      },
      "file_extension": ".py",
      "mimetype": "text/x-python",
      "name": "python",
      "nbconvert_exporter": "python",
      "pygments_lexer": "ipython3",
      "version": "3.8.5"
    },
    "colab": {
      "name": "LineareRegression.ipynb",
      "provenance": []
    }
  },
  "nbformat": 4,
  "nbformat_minor": 0
}