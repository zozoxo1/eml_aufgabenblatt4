{
  "cells": [
    {
      "cell_type": "markdown",
      "id": "1ca7a292",
      "metadata": {
        "id": "1ca7a292"
      },
      "source": [
        "<figure>\n",
        "  <IMG SRC=\"https://upload.wikimedia.org/wikipedia/commons/thumb/d/d5/Fachhochschule_Südwestfalen_20xx_logo.svg/320px-Fachhochschule_Südwestfalen_20xx_logo.svg.png\" WIDTH=250 ALIGN=\"right\">\n",
        "</figure>\n",
        "\n",
        "# Einführung Machine Learning\n",
        "### Sommersemester 2022\n",
        "Prof. Dr. Heiner Giefers"
      ]
    },
    {
      "cell_type": "code",
      "execution_count": null,
      "id": "36e1228a",
      "metadata": {
        "id": "36e1228a"
      },
      "outputs": [],
      "source": [
        "%matplotlib inline\n",
        "import numpy as np\n",
        "import matplotlib.pyplot as plt"
      ]
    },
    {
      "cell_type": "markdown",
      "id": "5c6ba88a",
      "metadata": {
        "id": "5c6ba88a"
      },
      "source": [
        "## Standardisierung\n",
        "In diesem Aufgabenblatt wollen wir einen Datensatz mit zwei Merkmalen standardisieren.\n",
        "Diese Umwandlung der Daten nennt man auch *z-Transformation*, und die berechneten Variablen daher auch *z-Werte* oder *z-Score*.\n",
        "\n",
        "In unserem Datensatz sei $\\textbf{x}$ eine (Zufalls-)Variable mit dem Erwartungswert $E(\\textbf{x})=\\mu$ und der Varianz $Var(\\textbf{x})=\\sigma ^{2}$. Die transformierte Variable $\\textbf{z}$ berechnet sich wie folgt:\n",
        "$$ \\textbf{z}=\\frac{\\textbf{x}-\\mu}{\\sigma} $$"
      ]
    },
    {
      "cell_type": "markdown",
      "id": "c87b6133",
      "metadata": {
        "id": "c87b6133"
      },
      "source": [
        "Wir generieren uns zunächst einen Datensatz $X$ mit Variablen. \n",
        "Dazu verwenden wir die NumPy Funktionen zur Erzeugung einer normalverteilten Variable.\n",
        "Für die Funktionen geben wir hier den Erwartungswert und die Standardabweichung der Daten an. \n",
        "Wir wollen diese Werte später aber *statistisch*, d.h. aus den Daten heraus ermitteln.\n",
        "Sie können die ursprüglichen Parameter ($\\mu_0=1000$, $\\mu_1=5$, $\\sigma_0=100$ und $\\sigma_1=1$) aber zur Überprüfung Ihrer Ergebnisse verwenden."
      ]
    },
    {
      "cell_type": "code",
      "execution_count": null,
      "id": "ad7e477b",
      "metadata": {
        "id": "ad7e477b"
      },
      "outputs": [],
      "source": [
        "N = 20\n",
        "X = np.zeros((N,2))\n",
        "X[:,0] = np.random.normal(1000, 100, N)\n",
        "X[:,1] = np.random.normal(5, 1, N)\n",
        "plt.scatter(X[:,0],X[:,1])"
      ]
    },
    {
      "cell_type": "markdown",
      "id": "b3994415",
      "metadata": {
        "id": "b3994415"
      },
      "source": [
        "**Aufgabe:** Berechne den Erwartungswert (das arithmetische Mittel) für alle Spalten von $X$."
      ]
    },
    {
      "cell_type": "code",
      "execution_count": null,
      "id": "c1080c17",
      "metadata": {
        "deletable": false,
        "id": "c1080c17",
        "nbgrader": {
          "grade": true,
          "grade_id": "cell-994f62b4d7be0609",
          "locked": false,
          "points": 0,
          "schema_version": 3,
          "solution": true,
          "task": false
        }
      },
      "outputs": [],
      "source": [
        "e = None\n",
        "e = (np.mean(X[:,0]), np.mean(X[:,1]))\n",
        "e"
      ]
    },
    {
      "cell_type": "code",
      "execution_count": null,
      "id": "93eb7456",
      "metadata": {
        "id": "93eb7456"
      },
      "outputs": [],
      "source": [
        "X1 = X - e\n",
        "plt.scatter(X1[:,0],X1[:,1])"
      ]
    },
    {
      "cell_type": "markdown",
      "id": "9d20c938",
      "metadata": {
        "id": "9d20c938"
      },
      "source": [
        "**Aufgabe:** Berechne die Varianz (mittlere quadratische Abweichung) aller Spalten von $X$."
      ]
    },
    {
      "cell_type": "code",
      "execution_count": null,
      "id": "889ed179",
      "metadata": {
        "deletable": false,
        "id": "889ed179",
        "nbgrader": {
          "grade": true,
          "grade_id": "cell-551a0be3a159a9fc",
          "locked": false,
          "points": 0,
          "schema_version": 3,
          "solution": true,
          "task": false
        }
      },
      "outputs": [],
      "source": [
        "var = None\n",
        "var = (np.var(X[:,0]), np.var(X[:,1]))\n",
        "var"
      ]
    },
    {
      "cell_type": "markdown",
      "id": "d8c225a2",
      "metadata": {
        "id": "d8c225a2"
      },
      "source": [
        "**Aufgabe:** Berechne aus der Varianz die Standardabweichung aller Spalten von $X$."
      ]
    },
    {
      "cell_type": "code",
      "execution_count": null,
      "id": "38492c34",
      "metadata": {
        "deletable": false,
        "id": "38492c34",
        "nbgrader": {
          "grade": true,
          "grade_id": "cell-a70968100b72bab9",
          "locked": false,
          "points": 0,
          "schema_version": 3,
          "solution": true,
          "task": false
        }
      },
      "outputs": [],
      "source": [
        "sigma = None\n",
        "sigma = (np.sqrt(var[0]), np.sqrt(var[1]))\n",
        "sigma"
      ]
    },
    {
      "cell_type": "code",
      "execution_count": null,
      "id": "a5fe2d80",
      "metadata": {
        "id": "a5fe2d80"
      },
      "outputs": [],
      "source": [
        "X1 = (X - e) / sigma\n",
        "plt.scatter(X1[:,0],X1[:,1])"
      ]
    },
    {
      "cell_type": "markdown",
      "id": "1b78d665",
      "metadata": {
        "id": "1b78d665"
      },
      "source": [
        "**Aufgabe:** Überprüfe den Erwartungswert und die Varianz der transformierten Daten."
      ]
    },
    {
      "cell_type": "code",
      "execution_count": null,
      "id": "150bcac8",
      "metadata": {
        "deletable": false,
        "id": "150bcac8",
        "nbgrader": {
          "grade": true,
          "grade_id": "cell-6019a835f2669445",
          "locked": false,
          "points": 0,
          "schema_version": 3,
          "solution": true,
          "task": false
        }
      },
      "outputs": [],
      "source": [
        "e1 = None\n",
        "e1 = (np.mean(X1[:,0]), np.mean(X1[:,1]))\n",
        "e1"
      ]
    },
    {
      "cell_type": "code",
      "execution_count": null,
      "id": "88230d66",
      "metadata": {
        "deletable": false,
        "id": "88230d66",
        "nbgrader": {
          "grade": true,
          "grade_id": "cell-bc1cc124ca871288",
          "locked": false,
          "points": 0,
          "schema_version": 3,
          "solution": true,
          "task": false
        }
      },
      "outputs": [],
      "source": [
        "sigma1 = None\n",
        "var1 = None\n",
        "var1 = (np.var(X1[:,0]), np.var(X1[:,1]))\n",
        "sigma1 = (np.sqrt(var1[0]), np.sqrt(var1[1]))\n",
        "sigma1"
      ]
    },
    {
      "cell_type": "markdown",
      "id": "e9fd30d1",
      "metadata": {
        "id": "e9fd30d1"
      },
      "source": [
        "**Aufgabe:** Normieren Sie den ursprünglichen Datatensatz in den Wertebereich $[0,1]$"
      ]
    },
    {
      "cell_type": "code",
      "execution_count": 107,
      "id": "dfe47617",
      "metadata": {
        "deletable": false,
        "id": "dfe47617",
        "nbgrader": {
          "grade": true,
          "grade_id": "cell-c999fc514994d271",
          "locked": false,
          "points": 0,
          "schema_version": 3,
          "solution": true,
          "task": false
        }
      },
      "outputs": [
        {
          "data": {
            "text/plain": [
              "array([[0.9098176 , 0.66824881],\n",
              "       [0.29843397, 1.        ],\n",
              "       [0.28805236, 0.53038346],\n",
              "       [0.18511783, 0.08600458],\n",
              "       [0.80067273, 0.69388252],\n",
              "       [0.79104875, 0.4984799 ],\n",
              "       [0.48253624, 0.45118106],\n",
              "       [0.34020198, 0.        ],\n",
              "       [0.76151887, 0.29790753],\n",
              "       [0.24085409, 0.63863667],\n",
              "       [0.77349721, 0.06608874],\n",
              "       [0.26740867, 0.74960227],\n",
              "       [0.        , 0.01383458],\n",
              "       [0.45338636, 0.02294967],\n",
              "       [0.93307671, 0.72428287],\n",
              "       [1.        , 0.76466065],\n",
              "       [0.97434143, 0.85287133],\n",
              "       [0.77840747, 0.42522872],\n",
              "       [0.36943764, 0.84515196],\n",
              "       [0.60842357, 0.65661774]])"
            ]
          },
          "execution_count": 107,
          "metadata": {},
          "output_type": "execute_result"
        },
        {
          "data": {
            "image/png": "[encoded data removed]",
            "text/plain": [
              "<Figure size 432x288 with 1 Axes>"
            ]
          },
          "metadata": {
            "needs_background": "light"
          },
          "output_type": "display_data"
        }
      ],
      "source": [
        "X2 = None\n",
        "X2 = (X - X.min(0)) / X.ptp(0)\n",
        "plt.scatter(X2[:,0],X2[:,1])"
      ]
    }
  ],
  "metadata": {
    "colab": {
      "collapsed_sections": [],
      "name": "Standardisierung.ipynb",
      "provenance": []
    },
    "kernelspec": {
      "display_name": "Python 3",
      "language": "python",
      "name": "python3"
    },
    "language_info": {
      "codemirror_mode": {
        "name": "ipython",
        "version": 3
      },
      "file_extension": ".py",
      "mimetype": "text/x-python",
      "name": "python",
      "nbconvert_exporter": "python",
      "pygments_lexer": "ipython3",
      "version": "3.10.4"
    }
  },
  "nbformat": 4,
  "nbformat_minor": 5
}
